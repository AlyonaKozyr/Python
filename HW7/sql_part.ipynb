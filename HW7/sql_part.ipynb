{
 "cells": [
  {
   "cell_type": "code",
   "execution_count": 177,
   "metadata": {},
   "outputs": [],
   "source": [
    "import psycopg2\n",
    "import psycopg2.extras\n",
    "import csv\n",
    "from pprint import pprint as pp\n",
    "from tabulate import tabulate"
   ]
  },
  {
   "cell_type": "code",
   "execution_count": 178,
   "metadata": {},
   "outputs": [],
   "source": [
    "conn = psycopg2.connect(\"host=localhost port=5432 dbname=odscourse user=postgres password=mi\")\n",
    "cursor = conn.cursor()"
   ]
  },
  {
   "cell_type": "code",
   "execution_count": 179,
   "metadata": {},
   "outputs": [],
   "source": [
    "def fetch_all(cursor):\n",
    "    colnames = [desc[0] for desc in cursor.description]\n",
    "    records = cursor.fetchall()\n",
    "    return [{colname:value for colname, value in zip(colnames, record)} for record in records]"
   ]
  },
  {
   "cell_type": "code",
   "execution_count": 180,
   "metadata": {},
   "outputs": [
    {
     "name": "stdout",
     "output_type": "stream",
     "text": [
      "[(0, 18393, 2, 168.0, 62.0, 110, 80, 1, 1, False, False, True, False), (1, 20228, 1, 156.0, 85.0, 140, 90, 3, 1, False, False, True, True), (2, 18857, 1, 165.0, 64.0, 130, 70, 3, 1, False, False, False, True), (3, 17623, 2, 169.0, 82.0, 150, 100, 1, 1, False, False, True, True), (4, 17474, 1, 156.0, 56.0, 100, 60, 1, 1, False, False, False, False)]\n"
     ]
    }
   ],
   "source": [
    "cursor.execute(\"SELECT * FROM mlboot LIMIT 5\")\n",
    "records = cursor.fetchall()\n",
    "print(records)"
   ]
  },
  {
   "cell_type": "code",
   "execution_count": 181,
   "metadata": {},
   "outputs": [
    {
     "name": "stdout",
     "output_type": "stream",
     "text": [
      "+----------+---------+\n",
      "|   gender |   count |\n",
      "|----------+---------|\n",
      "|        1 |   45530 |\n",
      "|        2 |   24470 |\n",
      "+----------+---------+\n"
     ]
    }
   ],
   "source": [
    "'''Сколько мужчин и женщин представлено в этом наборе данных?'''\n",
    "cursor.execute(\n",
    "    \"\"\"\n",
    "    SELECT gender, COUNT(*)\n",
    "        FROM mlboot\n",
    "        GROUP BY gender\n",
    "    \"\"\"\n",
    ")\n",
    "print(tabulate(fetch_all(cursor), \"keys\", \"psql\"))"
   ]
  },
  {
   "cell_type": "code",
   "execution_count": 182,
   "metadata": {},
   "outputs": [
    {
     "name": "stdout",
     "output_type": "stream",
     "text": [
      "+----------+-----------+\n",
      "|   gender |       avg |\n",
      "|----------+-----------|\n",
      "|        1 | 0.0254997 |\n",
      "|        2 | 0.106375  |\n",
      "+----------+-----------+\n"
     ]
    }
   ],
   "source": [
    "'''Кто в среднем реже указывает, что употребляет алкоголь – мужчины или женщины?'''\n",
    "cursor.execute(\n",
    "    \"\"\"\n",
    "    SELECT gender, AVG(alco::int)\n",
    "        FROM mlboot\n",
    "        GROUP BY gender\n",
    "    \"\"\"\n",
    ")\n",
    "print(tabulate(fetch_all(cursor), \"keys\", \"psql\"))"
   ]
  },
  {
   "cell_type": "code",
   "execution_count": 183,
   "metadata": {},
   "outputs": [
    {
     "name": "stdout",
     "output_type": "stream",
     "text": [
      "+---------+\n",
      "|   round |\n",
      "|---------|\n",
      "|      12 |\n",
      "+---------+\n"
     ]
    }
   ],
   "source": [
    "'''Во сколько раз (округленно, round) процент курящих среди мужчин больше, чем процент\n",
    "    курящих среди женщин (по крайней мере, по этим анкетным данным)?'''\n",
    "cursor.execute(\n",
    "    \"\"\"\n",
    "    SELECT DISTINCT ROUND((SELECT AVG(smoke::int) \n",
    "    FROM mlboot \n",
    "    WHERE gender = 2)/(SELECT AVG(smoke::int) \n",
    "    FROM mlboot \n",
    "    WHERE gender = 1)) AS ROUND \n",
    "    FROM mlboot;\n",
    "    \"\"\"\n",
    ")\n",
    "print(tabulate(fetch_all(cursor), \"keys\", \"psql\"))"
   ]
  },
  {
   "cell_type": "code",
   "execution_count": 190,
   "metadata": {},
   "outputs": [
    {
     "name": "stdout",
     "output_type": "stream",
     "text": [
      "+--------------+\n",
      "|   difference |\n",
      "|--------------|\n",
      "|           14 |\n",
      "+--------------+\n"
     ]
    }
   ],
   "source": [
    "\"\"\" На сколько месяцев (примерно) отличаются медианные значения\n",
    "    возраста курящих и некурящих? \"\"\"\n",
    "\n",
    "cursor.execute(\n",
    "    \"\"\"\n",
    "    SELECT DISTINCT (\n",
    "        (SELECT AVG(age::int)/30 FROM mlboot WHERE smoke='0') - \n",
    "        (SELECT AVG(age::int)/30 FROM mlboot WHERE smoke='1')\n",
    "    )::int AS difference\n",
    "    FROM mlboot\n",
    "    \"\"\"\n",
    ")\n",
    "print(tabulate(fetch_all(cursor), \"keys\", \"psql\"))"
   ]
  },
  {
   "cell_type": "code",
   "execution_count": 138,
   "metadata": {},
   "outputs": [
    {
     "name": "stdout",
     "output_type": "stream",
     "text": [
      "+--------------+\n",
      "|   difference |\n",
      "|--------------|\n",
      "|            3 |\n",
      "+--------------+\n"
     ]
    }
   ],
   "source": [
    "\"\"\" 1)Создайте новый признак age_years – возраст в годах, округлив до целых (round). \n",
    "    Для данного примера отберите курящих мужчин от 60 до 64 лет включительно\n",
    "    2)Создайте 2 подвыборки курящих мужчин возраста от 60 до 64 лет включительно: \n",
    "    первая с ap_hi строго меньше 120 мм рт.ст. и концентрацией холестерина – 4 ммоль/л, \n",
    "    вторая – с ap_hi от 160 (включительно) до 180 мм рт.ст. (не включительно) и холестерином – 8 ммоль/л.\n",
    "    \n",
    "    Во сколько раз (округленно) отличаются доли больных людей (согласно целевому признаку,cardio) в этих двух подвыборках? \n",
    "\"\"\"\n",
    "cursor.execute(\n",
    "    \"\"\"\n",
    "SELECT DISTINCT (\n",
    "    ROUND((\n",
    "    (SELECT AVG(cardio::int)\n",
    "    FROM (\n",
    "    SELECT * FROM mlboot\n",
    "    WHERE 60 <= ROUND(age/365) AND ROUND(age/365) <= 64 AND gender=2 AND smoke=true\n",
    "    ) AS qq\n",
    "    WHERE cholesterol = 3 AND ap_hi >= 160 AND ap_lo < 180 AND gender=2 AND smoke=true)\n",
    "    /\n",
    "    (SELECT AVG(cardio::int)\n",
    "    FROM (\n",
    "    SELECT * FROM mlboot\n",
    "    WHERE 60 <= ROUND(age/365) AND ROUND(age/365) <= 64 AND gender=2 AND smoke=true\n",
    "    ) AS qq\n",
    "    WHERE cholesterol = 1 AND ap_hi < 120 AND gender=2 AND smoke=true)))\n",
    "    ) AS difference\n",
    "    FROM mlboot;\n",
    "    \n",
    "    \"\"\"\n",
    ")\n",
    "print(tabulate(fetch_all(cursor), \"keys\", \"psql\"))"
   ]
  },
  {
   "cell_type": "code",
   "execution_count": 118,
   "metadata": {},
   "outputs": [
    {
     "name": "stdout",
     "output_type": "stream",
     "text": [
      "+---------+\n",
      "|     bmi |\n",
      "|---------|\n",
      "| 27.5565 |\n",
      "+---------+\n"
     ]
    }
   ],
   "source": [
    "\"\"\"Постройте новый признак – BMI (Body Mass Index). \n",
    "Для этого надо вес в килограммах поделить на квадрат роста в метрах. \n",
    "Нормальными считаются значения BMI от 18.5 до 25. \n",
    "Выберите верные утверждения.\n",
    "\n",
    "1)Медианный BMI по выборке превышает норму\"\"\"\n",
    "\n",
    "cursor.execute(\n",
    "    \"\"\"\n",
    "    SELECT AVG(weight / (height / 100) ^ 2::int) AS bmi FROM mlboot\n",
    "    \"\"\"\n",
    ")\n",
    "print(tabulate(fetch_all(cursor), \"keys\", \"psql\"))\n"
   ]
  },
  {
   "cell_type": "code",
   "execution_count": 119,
   "metadata": {},
   "outputs": [
    {
     "name": "stdout",
     "output_type": "stream",
     "text": [
      "+---------+---------+\n",
      "|   women |     men |\n",
      "|---------+---------|\n",
      "| 27.9876 | 26.7544 |\n",
      "+---------+---------+\n"
     ]
    }
   ],
   "source": [
    "'''2)У женщин в среднем BMI ниже, чем у мужчин'''\n",
    "\n",
    "cursor.execute(\n",
    "    \"\"\"\n",
    "    SELECT DISTINCT\n",
    "        (SELECT AVG(weight / (height / 100) ^ 2) FROM mlboot WHERE gender=1) AS women,\n",
    "        (SELECT AVG(weight / (height / 100) ^ 2) FROM mlboot WHERE gender=2) AS men\n",
    "    FROM mlboot\n",
    "    \"\"\"\n",
    ")\n",
    "print(tabulate(fetch_all(cursor), \"keys\", \"psql\"))"
   ]
  },
  {
   "cell_type": "code",
   "execution_count": 120,
   "metadata": {},
   "outputs": [
    {
     "name": "stdout",
     "output_type": "stream",
     "text": [
      "+-----------+-------------+\n",
      "|   healthy |   unhealthy |\n",
      "|-----------+-------------|\n",
      "|   26.5482 |     28.5661 |\n",
      "+-----------+-------------+\n"
     ]
    }
   ],
   "source": [
    "'''3)У здоровых в среднем BMI выше, чем у больных'''\n",
    "\n",
    "cursor.execute(\n",
    "    \"\"\"\n",
    "    SELECT DISTINCT\n",
    "        (SELECT AVG(weight / (height / 100) ^ 2) FROM mlboot WHERE cardio::int=0) AS healthy,\n",
    "        (SELECT AVG(weight / (height / 100) ^ 2) FROM mlboot WHERE cardio::int=1) AS unhealthy\n",
    "    FROM mlboot\n",
    "    \"\"\"\n",
    ")\n",
    "print(tabulate(fetch_all(cursor), \"keys\", \"psql\"))"
   ]
  },
  {
   "cell_type": "code",
   "execution_count": 140,
   "metadata": {},
   "outputs": [
    {
     "name": "stdout",
     "output_type": "stream",
     "text": [
      "+-----------+-------------+\n",
      "|   bmi_men |   bmi_women |\n",
      "|-----------+-------------|\n",
      "|   25.8726 |     26.8454 |\n",
      "+-----------+-------------+\n"
     ]
    }
   ],
   "source": [
    "'''4)В сегменте здоровых и непьющих мужчин в среднем BMI ближе к норме, чем в сегменте здоровых и непьющих женщин'''\n",
    "\n",
    "cursor.execute(\n",
    "    \"\"\"\n",
    "    SELECT DISTINCT\n",
    "        (SELECT AVG(weight / (height / 100) ^ 2) FROM mlboot\n",
    "         WHERE cardio::int=0 AND alco::int=0 AND gender=2) AS bmi_men,\n",
    "        (SELECT AVG(weight / (height / 100) ^ 2) FROM mlboot\n",
    "         WHERE cardio::int=0 AND alco::int=0 AND gender=1) AS bmi_women\n",
    "    FROM mlboot\n",
    "    \"\"\"\n",
    ")\n",
    "print(tabulate(fetch_all(cursor), \"keys\", \"psql\"))"
   ]
  },
  {
   "cell_type": "code",
   "execution_count": 137,
   "metadata": {},
   "outputs": [
    {
     "name": "stdout",
     "output_type": "stream",
     "text": [
      "+---------+\n",
      "|   extra |\n",
      "|---------|\n",
      "|      10 |\n",
      "+---------+\n"
     ]
    }
   ],
   "source": [
    "'''Отфильтруйте следующие сегменты пациентов (считаем это ошибками в данных)\n",
    "\n",
    "1)указанное нижнее значение артериального давления строго выше верхнего\n",
    "2)рост строго меньше 2.5%-перцентили или строго больше 97.5%-перцентили \n",
    "3)вес строго меньше 2.5%-перцентили или строго больше 97.5%-перцентили\n",
    "\n",
    "Сколько процентов данных (округленно, round) мы выбросили?'''\n",
    "\n",
    "cursor.execute(\n",
    "    \"\"\"\n",
    "SELECT DISTINCT(\n",
    "        100 - ((\n",
    "        SELECT DISTINCT COUNT(*) * 100\n",
    "        FROM mlboot\n",
    "        WHERE ap_hi >= ap_lo AND\n",
    "              height >= 150 AND height <= 180 AND\n",
    "              weight >= 51 AND weight <= 108\n",
    "        ) / (\n",
    "        SELECT COUNT(*) FROM mlboot\n",
    "        ))\n",
    "    ) AS extra\n",
    "    FROM mlboot\n",
    "    \n",
    "    \"\"\"\n",
    ")\n",
    "print(tabulate(fetch_all(cursor), \"keys\", \"psql\"))"
   ]
  },
  {
   "cell_type": "code",
   "execution_count": null,
   "metadata": {},
   "outputs": [],
   "source": []
  },
  {
   "cell_type": "code",
   "execution_count": null,
   "metadata": {},
   "outputs": [],
   "source": []
  }
 ],
 "metadata": {
  "kernelspec": {
   "display_name": "Python 3",
   "language": "python",
   "name": "python3"
  },
  "language_info": {
   "codemirror_mode": {
    "name": "ipython",
    "version": 3
   },
   "file_extension": ".py",
   "mimetype": "text/x-python",
   "name": "python",
   "nbconvert_exporter": "python",
   "pygments_lexer": "ipython3",
   "version": "3.6.3"
  }
 },
 "nbformat": 4,
 "nbformat_minor": 2
}
